{
  "nbformat": 4,
  "nbformat_minor": 0,
  "metadata": {
    "colab": {
      "provenance": [],
      "authorship_tag": "ABX9TyPXoYhXzcQdvh6qOscDh8Wn",
      "include_colab_link": true
    },
    "kernelspec": {
      "name": "python3",
      "display_name": "Python 3"
    },
    "language_info": {
      "name": "python"
    }
  },
  "cells": [
    {
      "cell_type": "markdown",
      "metadata": {
        "id": "view-in-github",
        "colab_type": "text"
      },
      "source": [
        "<a href=\"https://colab.research.google.com/github/naga-dheeraj-p/Machine_LEARNING_projects/blob/main/Choice_modelling_py.ipynb\" target=\"_parent\"><img src=\"https://colab.research.google.com/assets/colab-badge.svg\" alt=\"Open In Colab\"/></a>"
      ]
    },
    {
      "cell_type": "code",
      "execution_count": 57,
      "metadata": {
        "id": "XsLK4ihU9V8S"
      },
      "outputs": [],
      "source": [
        "import numpy as np\n",
        "import pandas as pd"
      ]
    },
    {
      "cell_type": "code",
      "source": [
        "#This is the Input data\n",
        "data = {\n",
        "    'X1': [2, 1, 3, 4, 2, 1, 8, 7, 3, 2],\n",
        "    'X2': [8, 7, 4, 1, 4, 7, 2, 2, 3, 1],\n",
        "    'Sero': [0, 0, 0, 0, 0, 0, 0, 0, 0, 0],\n",
        "    'S1': [3, 8, 4, 7, 1, 6, 5, 9, 2, 3],\n",
        "    'AV1': [1, 1, 1, 1, 1, 0, 0, 1, 1, 0],\n",
        "    'AV2': [1, 1, 1, 0, 0, 1, 1, 1, 0, 1],\n",
        "    'AV3': [1, 1, 0, 0, 1, 1, 1, 1, 1, 1]\n",
        "}\n",
        "\n",
        "# Parameters\n",
        "parameters = {\n",
        "    'beta_01': 0.1,\n",
        "    'beta_1': -0.5,\n",
        "    'beta_2': -0.4,\n",
        "    'beta_02': 1,\n",
        "    'beta_03': 0,\n",
        "    'beta_S1_13': 0.33,\n",
        "    'beta_S1_23': 0.58\n",
        "}\n"
      ],
      "metadata": {
        "id": "80_M3E6Llh_f"
      },
      "execution_count": 58,
      "outputs": []
    },
    {
      "cell_type": "code",
      "source": [
        "def utility_function_V1(parameters, data):\n",
        "    beta_01 = parameters['beta_01']\n",
        "    beta_1 = parameters['beta_1']\n",
        "    beta_S1_13 = parameters['beta_S1_13']\n",
        "    return beta_01 + beta_1 * data['X1'] + beta_S1_13 * data['S1'] # Calculates utility using a linear model with parameters beta_01, beta_1, and beta_S1_13.\n",
        "\n",
        "def utility_function_V2(parameters, data):\n",
        "    beta_02 = parameters['beta_02']\n",
        "    beta_2 = parameters['beta_2']\n",
        "    beta_S1_23 = parameters['beta_S1_23']\n",
        "    return beta_02 + beta_2 * data['X2'] + beta_S1_23 * data['S1'] # Calculates utility using a linear model with parameters beta_02, beta_2, and beta_S1_23.\n",
        "\n",
        "def utility_function_V3(parameters, data):\n",
        "    beta_03 = parameters['beta_03']\n",
        "    beta_Sero = parameters['beta_Sero']\n",
        "    return beta_03 + beta_Sero * data['Sero'] # Calculates utility using a linear model with parameters beta_03 and beta_Sero."
      ],
      "metadata": {
        "id": "2eHdwUzJCgMb"
      },
      "execution_count": 59,
      "outputs": []
    },
    {
      "cell_type": "code",
      "source": [
        "def calculate_utilities(parameters, data):\n",
        "    # Check for parameter and data dimension mismatch\n",
        "    if len(parameters) != len(data):\n",
        "        raise ValueError(\"Mismatched dimensions between parameters and data\")\n",
        "\n",
        "    utilities = {'V1': [], 'V2': [], 'V3': []}\n",
        "\n",
        "    # Iterate through each data point\n",
        "    num_data_points = len(data['X1'])\n",
        "\n",
        "    for i in range(num_data_points):\n",
        "        # Calculated utility values for each alternative at the current data point using the given formula\n",
        "        V1 = round(parameters['beta_01'] + parameters['beta_1'] * data['X1'][i] + parameters['beta_S1_13'] * data['S1'][i],2)\n",
        "        V2 = round(parameters['beta_02'] + parameters['beta_2'] * data['X2'][i] + parameters['beta_S1_23'] * data['S1'][i],2)\n",
        "        V3 = round(parameters['beta_03'] + parameters['beta_1'] * data['Sero'][i] + parameters['beta_2'] * data['Sero'][i],2)\n",
        "\n",
        "        # Appended utility values to the dictionary\n",
        "        utilities['V1'].append(V1)\n",
        "        utilities['V2'].append(V2)\n",
        "        utilities['V3'].append(V3)\n",
        "\n",
        "    return utilities\n",
        "try:    #Handling Error\n",
        "    utilities = calculate_utilities(parameters, data)\n",
        "    print(\"Utility values calculated successfully.\")\n",
        "    for key, value in utilities .items():\n",
        "      print(key, \":\", value)\n",
        "except ValueError as e:\n",
        "    print(\"Error:\", e)"
      ],
      "metadata": {
        "colab": {
          "base_uri": "https://localhost:8080/"
        },
        "id": "6cTZtUIeVz7j",
        "outputId": "b840c286-fb49-4435-b548-80a6989dd4b5"
      },
      "execution_count": 60,
      "outputs": [
        {
          "output_type": "stream",
          "name": "stdout",
          "text": [
            "Utility values calculated successfully.\n",
            "V1 : [0.09, 2.24, -0.08, 0.41, -0.57, 1.58, -2.25, -0.43, -0.74, 0.09]\n",
            "V2 : [-0.46, 2.84, 1.72, 4.66, -0.02, 1.68, 3.1, 5.42, 0.96, 2.34]\n",
            "V3 : [0.0, 0.0, 0.0, 0.0, 0.0, 0.0, 0.0, 0.0, 0.0, 0.0]\n"
          ]
        }
      ]
    },
    {
      "cell_type": "code",
      "source": [
        "probabilities = {'P1': [], 'P2': [], 'P3': []}\n",
        "num_data_points = len(data['X1']) # finding the length of X1\n",
        "\n",
        "for j in range(num_data_points):\n",
        "  denominator = (data['AV1'][j]*np.exp(utilities['V1'][j]) +\n",
        "                 data['AV2'][j]*np.exp(utilities['V2'][j]) +\n",
        "                 data['AV3'][j]*np.exp(utilities['V3'][j])) # Calculating the denominator using the formula\n",
        "  P1=round((data['AV1'][j]*np.exp(utilities['V1'][j])) /(denominator),2)\n",
        "  P2=round((data['AV2'][j]*np.exp(utilities['V2'][j])) /(denominator),2) # Calculating the numerator using the formula with exp(v)\n",
        "  P3=round((data['AV3'][j]*np.exp(utilities['V3'][j])) /(denominator),2)\n",
        "\n",
        "  probabilities['P1'].append(P1) #Appeneding P1,P2,P3 in the probabilities\n",
        "  probabilities['P2'].append(P2)\n",
        "  probabilities['P3'].append(P3)\n",
        "\n",
        "for key, value in probabilities .items():\n",
        "    print(key, \":\", value) #printing the key & value pair in probabilities"
      ],
      "metadata": {
        "colab": {
          "base_uri": "https://localhost:8080/"
        },
        "id": "NwND95WXYiGk",
        "outputId": "434a8549-815a-4730-f908-88e1eaad6c30"
      },
      "execution_count": 61,
      "outputs": [
        {
          "output_type": "stream",
          "name": "stdout",
          "text": [
            "P1 : [0.4, 0.34, 0.14, 1.0, 0.36, 0.0, 0.0, 0.0, 0.32, 0.0]\n",
            "P2 : [0.23, 0.62, 0.86, 0.0, 0.0, 0.84, 0.96, 0.99, 0.0, 0.91]\n",
            "P3 : [0.37, 0.04, 0.0, 0.0, 0.64, 0.16, 0.04, 0.0, 0.68, 0.09]\n"
          ]
        }
      ]
    },
    {
      "cell_type": "code",
      "source": [
        "df = pd.DataFrame.from_dict(probabilities, orient='index')\n",
        "\n",
        "# Save the DataFrame to a txt file\n",
        "df.to_csv('NEW_probabilities.txt', sep='\\t', index_label='Index')\n",
        "\n",
        "print(\"csv file has been saved\")"
      ],
      "metadata": {
        "colab": {
          "base_uri": "https://localhost:8080/"
        },
        "id": "zy97BNl98iY8",
        "outputId": "2ea24e6b-ec9c-4a48-a1b9-9f0c9db7982b"
      },
      "execution_count": 62,
      "outputs": [
        {
          "output_type": "stream",
          "name": "stdout",
          "text": [
            "csv file has been saved\n"
          ]
        }
      ]
    },
    {
      "cell_type": "code",
      "source": [],
      "metadata": {
        "id": "fDe9hX3y-DjZ"
      },
      "execution_count": 62,
      "outputs": []
    }
  ]
}