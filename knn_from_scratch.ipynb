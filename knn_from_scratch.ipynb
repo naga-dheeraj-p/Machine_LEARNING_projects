{
  "nbformat": 4,
  "nbformat_minor": 0,
  "metadata": {
    "colab": {
      "provenance": [],
      "authorship_tag": "ABX9TyNmIQNYTWiwCNy6ajZ2+0+r",
      "include_colab_link": true
    },
    "kernelspec": {
      "name": "python3",
      "display_name": "Python 3"
    },
    "language_info": {
      "name": "python"
    }
  },
  "cells": [
    {
      "cell_type": "markdown",
      "metadata": {
        "id": "view-in-github",
        "colab_type": "text"
      },
      "source": [
        "<a href=\"https://colab.research.google.com/github/naga-dheeraj-p/sql_practise/blob/main/knn_from_scratch.ipynb\" target=\"_parent\"><img src=\"https://colab.research.google.com/assets/colab-badge.svg\" alt=\"Open In Colab\"/></a>"
      ]
    },
    {
      "cell_type": "code",
      "execution_count": 2,
      "metadata": {
        "id": "uJmsacbELhgd"
      },
      "outputs": [],
      "source": [
        "import pandas as pd\n",
        "import numpy as np\n",
        "import statistics\n",
        "from sklearn.model_selection import train_test_split\n",
        "from sklearn.preprocessing import StandardScaler\n",
        "from sklearn.neighbors import KNeighborsClassifier\n",
        "from sklearn.metrics import confusion_matrix\n",
        "from sklearn.metrics import f1_score\n",
        "from sklearn.metrics import accuracy_score"
      ]
    },
    {
      "cell_type": "code",
      "source": [
        "class KNN_Classifier():\n",
        "\n",
        "  def __init__(self,distance_metric):\n",
        "    self.get_distance_metric=distance_metric\n",
        "\n",
        "\n",
        "  def get_distance_metric(self,training_data_point,testing_data_point):\n",
        "    if (self.distance_metric=='euclidean'):\n",
        "      dist=0\n",
        "      for i in range(0,len(training_data_point)):\n",
        "        euclidean_distance=np.sqrt(dist)\n",
        "        return euclidean_distance\n",
        "    elif (self.distance_metric=='manhattan'):\n",
        "      dist=0\n",
        "      for i in range(0,len(training_data_point)):\n",
        "        dist+=abs(training_data_point[i]-testing_data_point[i])\n",
        "\n",
        "\n",
        "  def nearest_neighbors(self,x_train,test_data,k):\n",
        "    distance_list=[]\n",
        "    for training_data_point in x_train:\n",
        "      distance=self.get_distance_metric(training_data_point,test_train)\n",
        "      distance_list.append(training_data_point,distance)\n",
        "    distance_list.sort(key=lambda x:x[1])\n",
        "\n",
        "    neighbors=[]\n",
        "    for j in range(k):\n",
        "        neighbors.append(distance_list[j][0])\n",
        "    return neighbors_list\n",
        "\n",
        "  def predict(self,x_train,testing_data,k):\n",
        "    neighbors=self.nearest_neighbors(x_train,testing_data,k)\n",
        "\n",
        "    for data in neighbors:\n",
        "      label=[]\n",
        "      label.append(data[-1])\n",
        "    predicted_class=statistics.mode(label)\n",
        "    return predicted_class\n",
        "\n",
        "\n",
        "\n",
        "\n",
        "\n",
        "\n"
      ],
      "metadata": {
        "id": "kek1GlgxLvJd"
      },
      "execution_count": 4,
      "outputs": []
    }
  ]
}