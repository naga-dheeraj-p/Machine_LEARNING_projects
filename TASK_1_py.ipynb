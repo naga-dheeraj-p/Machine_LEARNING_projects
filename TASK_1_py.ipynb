{
  "nbformat": 4,
  "nbformat_minor": 0,
  "metadata": {
    "colab": {
      "provenance": [],
      "authorship_tag": "ABX9TyNQI1EEZj1AvDa2/1XEb/nb",
      "include_colab_link": true
    },
    "kernelspec": {
      "name": "python3",
      "display_name": "Python 3"
    },
    "language_info": {
      "name": "python"
    }
  },
  "cells": [
    {
      "cell_type": "markdown",
      "metadata": {
        "id": "view-in-github",
        "colab_type": "text"
      },
      "source": [
        "<a href=\"https://colab.research.google.com/github/naga-dheeraj-p/Machine_LEARNING_projects/blob/main/TASK_1_py.ipynb\" target=\"_parent\"><img src=\"https://colab.research.google.com/assets/colab-badge.svg\" alt=\"Open In Colab\"/></a>"
      ]
    },
    {
      "cell_type": "markdown",
      "source": [
        "# **TASK 1:**"
      ],
      "metadata": {
        "id": "CsVkBwVpR8U1"
      }
    },
    {
      "cell_type": "markdown",
      "source": [
        "**K Means Clustering**"
      ],
      "metadata": {
        "id": "aElTjXWO89tr"
      }
    },
    {
      "cell_type": "code",
      "execution_count": null,
      "metadata": {
        "id": "DiPY5TBCwXrf",
        "colab": {
          "base_uri": "https://localhost:8080/",
          "height": 206
        },
        "outputId": "e388b84c-a671-4f8d-ad61-fb77182810c1"
      },
      "outputs": [
        {
          "output_type": "execute_result",
          "data": {
            "text/plain": [
              "   T1  T2  T3  T4  T5  T6  T7  T8  T9  T10  T11  T12  T13  T14  T15  T16  T17  \\\n",
              "0 -70 -61 -66 -53 -51 -63 -82 -57 -76  -78  -66  -66  -61  -59  -73  -75  -63   \n",
              "1 -77 -74 -71 -76 -65 -63 -66 -52 -55  -75  -72  -75  -74  -61  -64  -63  -53   \n",
              "2 -53 -38 -55 -66 -62 -62 -65 -70 -62  -52  -56  -53  -66  -68  -72  -60  -68   \n",
              "3 -72 -62 -59 -65 -65 -65 -78 -82 -83  -59  -84  -60  -64  -83  -69  -72  -95   \n",
              "4 -67 -69 -65 -63 -59 -53 -70 -72 -71  -60  -61  -57  -54  -76  -61  -66  -71   \n",
              "\n",
              "   T18 target  \n",
              "0  -77    B37  \n",
              "1  -63    B61  \n",
              "2  -77    A19  \n",
              "3  -73    A22  \n",
              "4  -80    A33  "
            ],
            "text/html": [
              "\n",
              "  <div id=\"df-3036210a-894c-45e3-a8fc-eb74aa1ce4c0\" class=\"colab-df-container\">\n",
              "    <div>\n",
              "<style scoped>\n",
              "    .dataframe tbody tr th:only-of-type {\n",
              "        vertical-align: middle;\n",
              "    }\n",
              "\n",
              "    .dataframe tbody tr th {\n",
              "        vertical-align: top;\n",
              "    }\n",
              "\n",
              "    .dataframe thead th {\n",
              "        text-align: right;\n",
              "    }\n",
              "</style>\n",
              "<table border=\"1\" class=\"dataframe\">\n",
              "  <thead>\n",
              "    <tr style=\"text-align: right;\">\n",
              "      <th></th>\n",
              "      <th>T1</th>\n",
              "      <th>T2</th>\n",
              "      <th>T3</th>\n",
              "      <th>T4</th>\n",
              "      <th>T5</th>\n",
              "      <th>T6</th>\n",
              "      <th>T7</th>\n",
              "      <th>T8</th>\n",
              "      <th>T9</th>\n",
              "      <th>T10</th>\n",
              "      <th>T11</th>\n",
              "      <th>T12</th>\n",
              "      <th>T13</th>\n",
              "      <th>T14</th>\n",
              "      <th>T15</th>\n",
              "      <th>T16</th>\n",
              "      <th>T17</th>\n",
              "      <th>T18</th>\n",
              "      <th>target</th>\n",
              "    </tr>\n",
              "  </thead>\n",
              "  <tbody>\n",
              "    <tr>\n",
              "      <th>0</th>\n",
              "      <td>-70</td>\n",
              "      <td>-61</td>\n",
              "      <td>-66</td>\n",
              "      <td>-53</td>\n",
              "      <td>-51</td>\n",
              "      <td>-63</td>\n",
              "      <td>-82</td>\n",
              "      <td>-57</td>\n",
              "      <td>-76</td>\n",
              "      <td>-78</td>\n",
              "      <td>-66</td>\n",
              "      <td>-66</td>\n",
              "      <td>-61</td>\n",
              "      <td>-59</td>\n",
              "      <td>-73</td>\n",
              "      <td>-75</td>\n",
              "      <td>-63</td>\n",
              "      <td>-77</td>\n",
              "      <td>B37</td>\n",
              "    </tr>\n",
              "    <tr>\n",
              "      <th>1</th>\n",
              "      <td>-77</td>\n",
              "      <td>-74</td>\n",
              "      <td>-71</td>\n",
              "      <td>-76</td>\n",
              "      <td>-65</td>\n",
              "      <td>-63</td>\n",
              "      <td>-66</td>\n",
              "      <td>-52</td>\n",
              "      <td>-55</td>\n",
              "      <td>-75</td>\n",
              "      <td>-72</td>\n",
              "      <td>-75</td>\n",
              "      <td>-74</td>\n",
              "      <td>-61</td>\n",
              "      <td>-64</td>\n",
              "      <td>-63</td>\n",
              "      <td>-53</td>\n",
              "      <td>-63</td>\n",
              "      <td>B61</td>\n",
              "    </tr>\n",
              "    <tr>\n",
              "      <th>2</th>\n",
              "      <td>-53</td>\n",
              "      <td>-38</td>\n",
              "      <td>-55</td>\n",
              "      <td>-66</td>\n",
              "      <td>-62</td>\n",
              "      <td>-62</td>\n",
              "      <td>-65</td>\n",
              "      <td>-70</td>\n",
              "      <td>-62</td>\n",
              "      <td>-52</td>\n",
              "      <td>-56</td>\n",
              "      <td>-53</td>\n",
              "      <td>-66</td>\n",
              "      <td>-68</td>\n",
              "      <td>-72</td>\n",
              "      <td>-60</td>\n",
              "      <td>-68</td>\n",
              "      <td>-77</td>\n",
              "      <td>A19</td>\n",
              "    </tr>\n",
              "    <tr>\n",
              "      <th>3</th>\n",
              "      <td>-72</td>\n",
              "      <td>-62</td>\n",
              "      <td>-59</td>\n",
              "      <td>-65</td>\n",
              "      <td>-65</td>\n",
              "      <td>-65</td>\n",
              "      <td>-78</td>\n",
              "      <td>-82</td>\n",
              "      <td>-83</td>\n",
              "      <td>-59</td>\n",
              "      <td>-84</td>\n",
              "      <td>-60</td>\n",
              "      <td>-64</td>\n",
              "      <td>-83</td>\n",
              "      <td>-69</td>\n",
              "      <td>-72</td>\n",
              "      <td>-95</td>\n",
              "      <td>-73</td>\n",
              "      <td>A22</td>\n",
              "    </tr>\n",
              "    <tr>\n",
              "      <th>4</th>\n",
              "      <td>-67</td>\n",
              "      <td>-69</td>\n",
              "      <td>-65</td>\n",
              "      <td>-63</td>\n",
              "      <td>-59</td>\n",
              "      <td>-53</td>\n",
              "      <td>-70</td>\n",
              "      <td>-72</td>\n",
              "      <td>-71</td>\n",
              "      <td>-60</td>\n",
              "      <td>-61</td>\n",
              "      <td>-57</td>\n",
              "      <td>-54</td>\n",
              "      <td>-76</td>\n",
              "      <td>-61</td>\n",
              "      <td>-66</td>\n",
              "      <td>-71</td>\n",
              "      <td>-80</td>\n",
              "      <td>A33</td>\n",
              "    </tr>\n",
              "  </tbody>\n",
              "</table>\n",
              "</div>\n",
              "    <div class=\"colab-df-buttons\">\n",
              "\n",
              "  <div class=\"colab-df-container\">\n",
              "    <button class=\"colab-df-convert\" onclick=\"convertToInteractive('df-3036210a-894c-45e3-a8fc-eb74aa1ce4c0')\"\n",
              "            title=\"Convert this dataframe to an interactive table.\"\n",
              "            style=\"display:none;\">\n",
              "\n",
              "  <svg xmlns=\"http://www.w3.org/2000/svg\" height=\"24px\" viewBox=\"0 -960 960 960\">\n",
              "    <path d=\"M120-120v-720h720v720H120Zm60-500h600v-160H180v160Zm220 220h160v-160H400v160Zm0 220h160v-160H400v160ZM180-400h160v-160H180v160Zm440 0h160v-160H620v160ZM180-180h160v-160H180v160Zm440 0h160v-160H620v160Z\"/>\n",
              "  </svg>\n",
              "    </button>\n",
              "\n",
              "  <style>\n",
              "    .colab-df-container {\n",
              "      display:flex;\n",
              "      gap: 12px;\n",
              "    }\n",
              "\n",
              "    .colab-df-convert {\n",
              "      background-color: #E8F0FE;\n",
              "      border: none;\n",
              "      border-radius: 50%;\n",
              "      cursor: pointer;\n",
              "      display: none;\n",
              "      fill: #1967D2;\n",
              "      height: 32px;\n",
              "      padding: 0 0 0 0;\n",
              "      width: 32px;\n",
              "    }\n",
              "\n",
              "    .colab-df-convert:hover {\n",
              "      background-color: #E2EBFA;\n",
              "      box-shadow: 0px 1px 2px rgba(60, 64, 67, 0.3), 0px 1px 3px 1px rgba(60, 64, 67, 0.15);\n",
              "      fill: #174EA6;\n",
              "    }\n",
              "\n",
              "    .colab-df-buttons div {\n",
              "      margin-bottom: 4px;\n",
              "    }\n",
              "\n",
              "    [theme=dark] .colab-df-convert {\n",
              "      background-color: #3B4455;\n",
              "      fill: #D2E3FC;\n",
              "    }\n",
              "\n",
              "    [theme=dark] .colab-df-convert:hover {\n",
              "      background-color: #434B5C;\n",
              "      box-shadow: 0px 1px 3px 1px rgba(0, 0, 0, 0.15);\n",
              "      filter: drop-shadow(0px 1px 2px rgba(0, 0, 0, 0.3));\n",
              "      fill: #FFFFFF;\n",
              "    }\n",
              "  </style>\n",
              "\n",
              "    <script>\n",
              "      const buttonEl =\n",
              "        document.querySelector('#df-3036210a-894c-45e3-a8fc-eb74aa1ce4c0 button.colab-df-convert');\n",
              "      buttonEl.style.display =\n",
              "        google.colab.kernel.accessAllowed ? 'block' : 'none';\n",
              "\n",
              "      async function convertToInteractive(key) {\n",
              "        const element = document.querySelector('#df-3036210a-894c-45e3-a8fc-eb74aa1ce4c0');\n",
              "        const dataTable =\n",
              "          await google.colab.kernel.invokeFunction('convertToInteractive',\n",
              "                                                    [key], {});\n",
              "        if (!dataTable) return;\n",
              "\n",
              "        const docLinkHtml = 'Like what you see? Visit the ' +\n",
              "          '<a target=\"_blank\" href=https://colab.research.google.com/notebooks/data_table.ipynb>data table notebook</a>'\n",
              "          + ' to learn more about interactive tables.';\n",
              "        element.innerHTML = '';\n",
              "        dataTable['output_type'] = 'display_data';\n",
              "        await google.colab.output.renderOutput(dataTable, element);\n",
              "        const docLink = document.createElement('div');\n",
              "        docLink.innerHTML = docLinkHtml;\n",
              "        element.appendChild(docLink);\n",
              "      }\n",
              "    </script>\n",
              "  </div>\n",
              "\n",
              "\n",
              "<div id=\"df-8fc198de-e8af-49a3-8ca1-3a9bc4bf3f26\">\n",
              "  <button class=\"colab-df-quickchart\" onclick=\"quickchart('df-8fc198de-e8af-49a3-8ca1-3a9bc4bf3f26')\"\n",
              "            title=\"Suggest charts\"\n",
              "            style=\"display:none;\">\n",
              "\n",
              "<svg xmlns=\"http://www.w3.org/2000/svg\" height=\"24px\"viewBox=\"0 0 24 24\"\n",
              "     width=\"24px\">\n",
              "    <g>\n",
              "        <path d=\"M19 3H5c-1.1 0-2 .9-2 2v14c0 1.1.9 2 2 2h14c1.1 0 2-.9 2-2V5c0-1.1-.9-2-2-2zM9 17H7v-7h2v7zm4 0h-2V7h2v10zm4 0h-2v-4h2v4z\"/>\n",
              "    </g>\n",
              "</svg>\n",
              "  </button>\n",
              "\n",
              "<style>\n",
              "  .colab-df-quickchart {\n",
              "      --bg-color: #E8F0FE;\n",
              "      --fill-color: #1967D2;\n",
              "      --hover-bg-color: #E2EBFA;\n",
              "      --hover-fill-color: #174EA6;\n",
              "      --disabled-fill-color: #AAA;\n",
              "      --disabled-bg-color: #DDD;\n",
              "  }\n",
              "\n",
              "  [theme=dark] .colab-df-quickchart {\n",
              "      --bg-color: #3B4455;\n",
              "      --fill-color: #D2E3FC;\n",
              "      --hover-bg-color: #434B5C;\n",
              "      --hover-fill-color: #FFFFFF;\n",
              "      --disabled-bg-color: #3B4455;\n",
              "      --disabled-fill-color: #666;\n",
              "  }\n",
              "\n",
              "  .colab-df-quickchart {\n",
              "    background-color: var(--bg-color);\n",
              "    border: none;\n",
              "    border-radius: 50%;\n",
              "    cursor: pointer;\n",
              "    display: none;\n",
              "    fill: var(--fill-color);\n",
              "    height: 32px;\n",
              "    padding: 0;\n",
              "    width: 32px;\n",
              "  }\n",
              "\n",
              "  .colab-df-quickchart:hover {\n",
              "    background-color: var(--hover-bg-color);\n",
              "    box-shadow: 0 1px 2px rgba(60, 64, 67, 0.3), 0 1px 3px 1px rgba(60, 64, 67, 0.15);\n",
              "    fill: var(--button-hover-fill-color);\n",
              "  }\n",
              "\n",
              "  .colab-df-quickchart-complete:disabled,\n",
              "  .colab-df-quickchart-complete:disabled:hover {\n",
              "    background-color: var(--disabled-bg-color);\n",
              "    fill: var(--disabled-fill-color);\n",
              "    box-shadow: none;\n",
              "  }\n",
              "\n",
              "  .colab-df-spinner {\n",
              "    border: 2px solid var(--fill-color);\n",
              "    border-color: transparent;\n",
              "    border-bottom-color: var(--fill-color);\n",
              "    animation:\n",
              "      spin 1s steps(1) infinite;\n",
              "  }\n",
              "\n",
              "  @keyframes spin {\n",
              "    0% {\n",
              "      border-color: transparent;\n",
              "      border-bottom-color: var(--fill-color);\n",
              "      border-left-color: var(--fill-color);\n",
              "    }\n",
              "    20% {\n",
              "      border-color: transparent;\n",
              "      border-left-color: var(--fill-color);\n",
              "      border-top-color: var(--fill-color);\n",
              "    }\n",
              "    30% {\n",
              "      border-color: transparent;\n",
              "      border-left-color: var(--fill-color);\n",
              "      border-top-color: var(--fill-color);\n",
              "      border-right-color: var(--fill-color);\n",
              "    }\n",
              "    40% {\n",
              "      border-color: transparent;\n",
              "      border-right-color: var(--fill-color);\n",
              "      border-top-color: var(--fill-color);\n",
              "    }\n",
              "    60% {\n",
              "      border-color: transparent;\n",
              "      border-right-color: var(--fill-color);\n",
              "    }\n",
              "    80% {\n",
              "      border-color: transparent;\n",
              "      border-right-color: var(--fill-color);\n",
              "      border-bottom-color: var(--fill-color);\n",
              "    }\n",
              "    90% {\n",
              "      border-color: transparent;\n",
              "      border-bottom-color: var(--fill-color);\n",
              "    }\n",
              "  }\n",
              "</style>\n",
              "\n",
              "  <script>\n",
              "    async function quickchart(key) {\n",
              "      const quickchartButtonEl =\n",
              "        document.querySelector('#' + key + ' button');\n",
              "      quickchartButtonEl.disabled = true;  // To prevent multiple clicks.\n",
              "      quickchartButtonEl.classList.add('colab-df-spinner');\n",
              "      try {\n",
              "        const charts = await google.colab.kernel.invokeFunction(\n",
              "            'suggestCharts', [key], {});\n",
              "      } catch (error) {\n",
              "        console.error('Error during call to suggestCharts:', error);\n",
              "      }\n",
              "      quickchartButtonEl.classList.remove('colab-df-spinner');\n",
              "      quickchartButtonEl.classList.add('colab-df-quickchart-complete');\n",
              "    }\n",
              "    (() => {\n",
              "      let quickchartButtonEl =\n",
              "        document.querySelector('#df-8fc198de-e8af-49a3-8ca1-3a9bc4bf3f26 button');\n",
              "      quickchartButtonEl.style.display =\n",
              "        google.colab.kernel.accessAllowed ? 'block' : 'none';\n",
              "    })();\n",
              "  </script>\n",
              "</div>\n",
              "\n",
              "    </div>\n",
              "  </div>\n"
            ]
          },
          "metadata": {},
          "execution_count": 1
        }
      ],
      "source": [
        "import pandas as pd\n",
        "import numpy as np\n",
        "data=pd.read_csv('/content/sample_data/train - train.csv')\n",
        "data.head()"
      ]
    },
    {
      "cell_type": "markdown",
      "source": [
        "**Interquartile Range (IQR) method for outlier detection and removal:**"
      ],
      "metadata": {
        "id": "yNwvTTqaCHpl"
      }
    },
    {
      "cell_type": "markdown",
      "source": [
        "*The Interquartile Range (IQR) method identifies outliers by computing the range between the first and third quartiles of a dataset and removing data points lying beyond a specified threshold from this range.*"
      ],
      "metadata": {
        "id": "kQayhF4UDrTo"
      }
    },
    {
      "cell_type": "code",
      "source": [
        "import numpy as np\n",
        "import pandas as pd\n",
        "\n",
        "data = pd.read_csv('/content/sample_data/train - train.csv')\n",
        "data_numeric = data.select_dtypes(include=[np.number])\n",
        "Q1 = data_numeric.quantile(0.25)\n",
        "Q3 = data_numeric.quantile(0.75)\n",
        "IQR = Q3 - Q1\n",
        "lower_bound = Q1 - 1.5 * IQR\n",
        "upper_bound = Q3 + 1.5 * IQR\n",
        "outliers_mask = ((data_numeric < lower_bound) | (data_numeric > upper_bound)).any(axis=1)\n",
        "cleaned_data = data.drop(data.index[outliers_mask])\n",
        "outliers_count = outliers_mask.sum()\n",
        "print(\"Number of outliers detected:\", outliers_count)"
      ],
      "metadata": {
        "colab": {
          "base_uri": "https://localhost:8080/"
        },
        "id": "-N6GQZUJCHaT",
        "outputId": "cf5405e9-1c98-4cfc-c180-529386a7702a"
      },
      "execution_count": null,
      "outputs": [
        {
          "output_type": "stream",
          "name": "stdout",
          "text": [
            "Number of outliers detected: 5430\n"
          ]
        }
      ]
    },
    {
      "cell_type": "markdown",
      "source": [
        "**DATA PRE-PROCESSING**:\n",
        "*Principal Component Analysis (PCA)*"
      ],
      "metadata": {
        "id": "PsAyfDMLGgwB"
      }
    },
    {
      "cell_type": "code",
      "source": [
        "import numpy as np\n",
        "from sklearn.model_selection import train_test_split\n",
        "from sklearn.decomposition import PCA\n",
        "x = data.iloc[:, :-1].values\n",
        "y = data.iloc[:,-1].values\n",
        "pca=PCA(0.9)\n",
        "x_pca=pca.fit_transform(x)\n",
        "pca.explained_variance_ratio_"
      ],
      "metadata": {
        "colab": {
          "base_uri": "https://localhost:8080/"
        },
        "id": "vml0dc1cGgiz",
        "outputId": "7eaf4712-bcf0-4cfa-aa75-7c6d9458e8a5"
      },
      "execution_count": null,
      "outputs": [
        {
          "output_type": "execute_result",
          "data": {
            "text/plain": [
              "array([0.37886498, 0.19072031, 0.07363578, 0.05728706, 0.0403135 ,\n",
              "       0.03052076, 0.02938465, 0.02646377, 0.02329883, 0.02203835,\n",
              "       0.02011524, 0.01912335])"
            ]
          },
          "metadata": {},
          "execution_count": 30
        }
      ]
    },
    {
      "cell_type": "markdown",
      "source": [
        "**LABEL ENCODING AND ELBOW POINT GRAPH**"
      ],
      "metadata": {
        "id": "aSluXWk_eNoI"
      }
    },
    {
      "cell_type": "markdown",
      "source": [
        "I have encoded the target column using LabelEncoder to convert categorical target values into numerical labels and then I dropped the original target column from the dataset.\n",
        "And then I used elbow method to determine the optimal number of clusters for K Means by plotting the Within-Cluster Sum of Squares (WCSS) against the number of clusters and identifying the \"Elbow point\" where the rate of decrease in WCSS slows down."
      ],
      "metadata": {
        "id": "SQzuSTR0FS-9"
      }
    },
    {
      "cell_type": "code",
      "source": [
        "import pandas as pd\n",
        "import matplotlib.pyplot as plt\n",
        "import seaborn as sns\n",
        "from sklearn.cluster import KMeans\n",
        "from sklearn.preprocessing import LabelEncoder\n",
        "\n",
        "#data = pd.read_csv('/content/sample_data/train - train.csv')\n",
        "data=cleaned_data\n",
        "\n",
        "target_column = data['target']\n",
        "label_encoder = LabelEncoder()\n",
        "data['target_encoded'] = label_encoder.fit_transform(target_column)\n",
        "data.drop(columns=['target'], inplace=True)\n",
        "print(data.head())\n",
        "\n",
        "wcss = []\n",
        "\n",
        "for i in range(1, 15):\n",
        "    kmeans = KMeans(n_clusters=i, init='k-means++', random_state=42, n_init=10)\n",
        "    kmeans.fit(data)\n",
        "    wcss.append(kmeans.inertia_)\n",
        "\n",
        "sns.set()\n",
        "plt.plot(range(1, 15), wcss)\n",
        "plt.title('Elbow Point Graph')\n",
        "plt.xlabel('No of Clusters')\n",
        "plt.ylabel('WCSS')\n",
        "plt.show()\n"
      ],
      "metadata": {
        "colab": {
          "base_uri": "https://localhost:8080/",
          "height": 706
        },
        "id": "H6y80G7EeNHw",
        "outputId": "a8e09048-6a86-4fd1-fa7d-c593435e362d"
      },
      "execution_count": null,
      "outputs": [
        {
          "output_type": "stream",
          "name": "stdout",
          "text": [
            "   T1  T2  T3  T4  T5  T6  T7  T8  T9  T10  T11  T12  T13  T14  T15  T16  T17  \\\n",
            "0 -70 -61 -66 -53 -51 -63 -82 -57 -76  -78  -66  -66  -61  -59  -73  -75  -63   \n",
            "1 -77 -74 -71 -76 -65 -63 -66 -52 -55  -75  -72  -75  -74  -61  -64  -63  -53   \n",
            "4 -67 -69 -65 -63 -59 -53 -70 -72 -71  -60  -61  -57  -54  -76  -61  -66  -71   \n",
            "5 -63 -68 -63 -66 -68 -54 -60 -53 -50  -56  -68  -72  -59  -57  -58  -52  -48   \n",
            "6 -68 -69 -65 -70 -56 -51 -63 -69 -71  -66  -65  -62  -54  -56  -54  -68  -61   \n",
            "\n",
            "   T18  target_encoded  \n",
            "0  -77              98  \n",
            "1  -63             124  \n",
            "4  -80              24  \n",
            "5  -52              67  \n",
            "6  -65              31  \n"
          ]
        },
        {
          "output_type": "display_data",
          "data": {
            "text/plain": [
              "<Figure size 640x480 with 1 Axes>"
            ],
            "image/png": "[encoded data removed]"
          },
          "metadata": {}
        }
      ]
    },
    {
      "cell_type": "markdown",
      "source": [
        "*After plotting the elbow point graph, I selected k=5 because the rate of decrease in within-cluster sum of squares (WCSS) slowed down significantly after that point.*"
      ],
      "metadata": {
        "id": "EffYRzVdV9x3"
      }
    },
    {
      "cell_type": "code",
      "source": [
        "import pandas as pd\n",
        "import numpy as np\n",
        "from sklearn.cluster import KMeans\n",
        "from sklearn.model_selection import train_test_split\n",
        "from sklearn.ensemble import RandomForestClassifier\n",
        "from sklearn.metrics import accuracy_score\n",
        "from sklearn.preprocessing import LabelEncoder\n",
        "\n",
        "#data=pd.read_csv('/content/sample_data/train - train.csv')\n",
        "data=cleaned_data\n",
        "\n",
        "target_column = data['target']\n",
        "label_encoder = LabelEncoder()\n",
        "data['target_encoded'] = label_encoder.fit_transform(target_column)\n",
        "data.drop(columns=['target'], inplace=True)\n",
        "\n",
        "k=5\n",
        "kmeans = KMeans(n_clusters=k, init='k-means++', random_state=60,n_init=10)\n",
        "x = data.iloc[:, :-1].values\n",
        "y = data.iloc[:,-1].values\n",
        "data['Cluster'] = kmeans.fit_predict(x)\n",
        "\n",
        "\n",
        "x_train, x_test, y_train, y_test = train_test_split(x, data['Cluster'], test_size=0.2, random_state=60)\n",
        "\n",
        "model = RandomForestClassifier(random_state=60)\n",
        "model.fit(x_train, y_train)\n",
        "\n",
        "\n",
        "y_pred = model.predict(x_test)\n",
        "accuracy = accuracy_score(y_test, y_pred)\n",
        "print(\"Accuracy: \",round(accuracy*100,2),'%')\n",
        "print(y_pred)\n",
        "\n",
        "x_test_new=pd.read_csv('/content/sample_data/test - test.csv')\n",
        "y_pred_new = model.predict(x_test_new)\n",
        "\n",
        "print(\"Predicted Target Values for Test Data:\")\n",
        "print(y_pred_new)"
      ],
      "metadata": {
        "colab": {
          "base_uri": "https://localhost:8080/"
        },
        "id": "oF6S-jHLB0ah",
        "outputId": "3c655fa2-c795-4408-d19a-bcf4cc4a90e0"
      },
      "execution_count": null,
      "outputs": [
        {
          "output_type": "stream",
          "name": "stdout",
          "text": [
            "Accuracy:  99.19 %\n",
            "[2 1 3 ... 0 2 2]\n",
            "Predicted Target Values for Test Data:\n",
            "[1 0 1 ... 1 3 1]\n"
          ]
        },
        {
          "output_type": "stream",
          "name": "stderr",
          "text": [
            "/usr/local/lib/python3.10/dist-packages/sklearn/base.py:432: UserWarning: X has feature names, but RandomForestClassifier was fitted without feature names\n",
            "  warnings.warn(\n"
          ]
        }
      ]
    },
    {
      "cell_type": "markdown",
      "source": [
        "**To identify to which cluster a given data point belongs to:**"
      ],
      "metadata": {
        "id": "3Sg56tO6I_t1"
      }
    },
    {
      "cell_type": "code",
      "source": [
        "import numpy as np\n",
        "from sklearn.preprocessing import StandardScaler\n",
        "\n",
        "\n",
        "input_data = np.array([-77,-74,-71,-76,-65,-63,-66,-52,-55,-75,-72,-75,-74,-61,-64,-63,-53,-63])\n",
        "input_data_reshaped = input_data.reshape(1, -1)\n",
        "\n",
        "scaler = StandardScaler()\n",
        "scaler.fit(input_data_reshaped)\n",
        "input_data_scaled = scaler.transform(input_data_reshaped)\n",
        "\n",
        "predictions = model.predict(input_data_scaled)\n",
        "print(\"Cluster to which the given input belongs to is:\", predictions)\n"
      ],
      "metadata": {
        "colab": {
          "base_uri": "https://localhost:8080/"
        },
        "id": "eUHcFHjBH9My",
        "outputId": "9c894518-9a48-4b82-e94f-3e2c98d67256"
      },
      "execution_count": null,
      "outputs": [
        {
          "output_type": "stream",
          "name": "stdout",
          "text": [
            "Cluster to which the given input belongs to is: [4]\n"
          ]
        }
      ]
    },
    {
      "cell_type": "code",
      "source": [
        "import pandas as pd\n",
        "import numpy as np\n",
        "from sklearn.cluster import KMeans\n",
        "from sklearn.model_selection import train_test_split\n",
        "from sklearn.ensemble import RandomForestClassifier\n",
        "from sklearn.metrics import accuracy_score\n",
        "from sklearn.preprocessing import LabelEncoder\n",
        "\n",
        "data=pd.read_csv('/content/sample_data/train - train.csv')\n",
        "k=5\n",
        "kmeans = KMeans(n_clusters=k, init='k-means++', random_state=60,n_init=10)\n",
        "x = data.iloc[:, :-1].values\n",
        "y = data.iloc[:,-1].values\n",
        "data['Cluster'] = kmeans.fit_predict(x)\n",
        "\n",
        "\n",
        "x_train, x_test, y_train, y_test = train_test_split(x, data['Cluster'], test_size=0.2, random_state=60)\n",
        "\n",
        "model = RandomForestClassifier(random_state=60)\n",
        "model.fit(x_train, y_train)\n",
        "\n",
        "\n",
        "y_pred = model.predict(x_test)\n",
        "accuracy = accuracy_score(y_test, y_pred)\n",
        "print(\"Accuracy: \",round(accuracy*100,2),'%')\n",
        "print(y_pred)"
      ],
      "metadata": {
        "colab": {
          "base_uri": "https://localhost:8080/"
        },
        "id": "z6h0Lzbu2Usd",
        "outputId": "c87f0516-5f25-4af3-bbed-5b637f6e6178"
      },
      "execution_count": null,
      "outputs": [
        {
          "output_type": "stream",
          "name": "stdout",
          "text": [
            "Accuracy:  99.17 %\n",
            "[2 4 3 ... 2 4 3]\n"
          ]
        }
      ]
    }
  ]
}